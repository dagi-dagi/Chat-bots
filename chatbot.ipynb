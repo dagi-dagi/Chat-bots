{
  "cells": [
    {
      "cell_type": "markdown",
      "metadata": {
        "id": "view-in-github",
        "colab_type": "text"
      },
      "source": [
        "<a href=\"https://colab.research.google.com/github/dagi-dagi/Chat-bots/blob/main/chatbot.ipynb\" target=\"_parent\"><img src=\"https://colab.research.google.com/assets/colab-badge.svg\" alt=\"Open In Colab\"/></a>"
      ]
    },
    {
      "cell_type": "code",
      "execution_count": null,
      "metadata": {
        "id": "3KJQeoUSR4Wi"
      },
      "outputs": [],
      "source": [
        "import re\n",
        "import random"
      ]
    },
    {
      "cell_type": "code",
      "execution_count": null,
      "metadata": {
        "colab": {
          "base_uri": "https://localhost:8080/"
        },
        "id": "sUncEgQkTH_p",
        "outputId": "3e69e172-c724-4b3e-f2c0-f603d04e49d2"
      },
      "outputs": [
        {
          "name": "stdout",
          "output_type": "stream",
          "text": [
            "what is your name?\n",
            " tony\n",
            "hi tony, I am a rulebot. will u help me learnabout ur planet?\n",
            "ok sir\n",
            "how can I help you?tell me about your planet\n",
            "my planet is utopia.\n",
            "your planet\n",
            "I am from planetos.\n",
            "about your planet\n",
            "my planet is utopia.\n",
            "telle me about intellipat\n",
            "I am curious, continue pls.\n",
            "intellipat\n",
            "I am curious, continue pls.\n",
            "\\s*intellipat\n",
            "I am curious, continue pls.\n",
            "why\n"
          ]
        }
      ],
      "source": [
        "\n",
        "import re\n",
        "import random\n",
        "\n",
        "\n",
        "class RuleBot:\n",
        "    ### potential negative response list\n",
        "    negative_responses = (\"no\", \"nope\", \"nah\")\n",
        "\n",
        "    ### exit conversation keywords\n",
        "    exit_commands = (\"bye\", \"quit\", \"exit\", \"goodbye\")\n",
        "\n",
        "    ### random starter questions\n",
        "    random_questions = (\n",
        "        \"hi\",\n",
        "        \"how are you\",\n",
        "        \"what is your name\",\n",
        "        \"how can I help you?\",\n",
        "    )\n",
        "\n",
        "    def __init__(self):\n",
        "        self.alienable = {\n",
        "            \"describe_planet_intent\": r\".*\\s*your planet.*\",\n",
        "            \"answer_why_intent\": r\"why\\sure/*\",\n",
        "            \"about_intellipat\": r\".\\s*intellipat\",\n",
        "        }\n",
        "\n",
        "    def greet(self):\n",
        "        self.name = input(\"what is your name?\\n \")\n",
        "        will_help = input(f\"hi {self.name}, I am a rulebot. will u help me learnabout ur planet?\\n\").lower()\n",
        "        if will_help in self.negative_responses:\n",
        "            print(\"ok, have a good day\")\n",
        "        # Call the chat function even after negative response\n",
        "        self.chat()\n",
        "\n",
        "    def make_exit(self, reply):\n",
        "        for command in self.exit_commands:\n",
        "            if reply == command:\n",
        "                print(\"okay, have a good day\")\n",
        "                return True\n",
        "        return False\n",
        "\n",
        "    def chat(self):\n",
        "        reply = input(random.choice(self.random_questions)).lower()\n",
        "        while not self.make_exit(reply):\n",
        "            reply = input(self.match_reply(reply))\n",
        "\n",
        "    def match_reply(self, reply):\n",
        "        for key, value in self.alienable.items():\n",
        "            intent = key\n",
        "            regex_pattern = value\n",
        "            found_match = re.match(regex_pattern, reply)\n",
        "            if found_match and intent == \"describe_planet_intent\":\n",
        "                return self.describe_planet_intent()\n",
        "            elif found_match and intent == \"answer_why_intent\":\n",
        "                return self.answer_why_intent()\n",
        "            elif found_match and intent == \"about_intellipat\":\n",
        "                return self.about_intellipat()\n",
        "        if not found_match:\n",
        "            return self.no_match_intent()\n",
        "\n",
        "    def describe_planet_intent(self):\n",
        "        responses = {\"my planet is utopia.\\n\", \"I am from planetos.\\n\"}\n",
        "        responses = list(responses)  # Convert set to list\n",
        "        return random.choice(responses)\n",
        "\n",
        "    def answer_why_intent(self):\n",
        "        responses = {\"I am here to collect data.\\n\", \"I am a traveller.\\n\"}\n",
        "        responses = list(responses)  # Convert set to list\n",
        "        return random.choice(responses)\n",
        "\n",
        "    def about_intellipat(self):\n",
        "        responses = {\"huge chat builder.\\n\", \"online teacher.\\n\"}\n",
        "        responses = list(responses)  # Convert set to list\n",
        "        return random.choice(responses)\n",
        "\n",
        "    def no_match_intent(self):\n",
        "        responses = {\"pls tell me more.\\n\", \"I am curious, continue pls.\\n\"}\n",
        "        responses = list(responses)  # Convert set to list\n",
        "        return random.choice(responses)\n",
        "\n",
        "alienbot = RuleBot()\n",
        "alienbot.greet()"
      ]
    }
  ],
  "metadata": {
    "colab": {
      "provenance": [],
      "authorship_tag": "ABX9TyMA2Q42+99PDeeQ5c6xq59X",
      "include_colab_link": true
    },
    "kernelspec": {
      "display_name": "Python 3",
      "name": "python3"
    },
    "language_info": {
      "name": "python"
    }
  },
  "nbformat": 4,
  "nbformat_minor": 0
}